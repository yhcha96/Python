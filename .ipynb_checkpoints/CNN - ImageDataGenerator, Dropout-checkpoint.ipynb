{
 "cells": [
  {
   "cell_type": "markdown",
   "metadata": {},
   "source": [
    "1. keras로 만들기\n",
    "2. CNN 적용해서 만들기\n",
    " - dropout 적용\n",
    "3. ImageDataGenerator\n",
    " - png데이터 예측하기\n",
    " - 이미지 증식하기"
   ]
  },
  {
   "cell_type": "code",
   "execution_count": 1,
   "metadata": {},
   "outputs": [
    {
     "name": "stderr",
     "output_type": "stream",
     "text": [
      "Using TensorFlow backend.\n"
     ]
    }
   ],
   "source": [
    "import pandas as pd\n",
    "import numpy as np\n",
    "from keras.datasets import mnist\n",
    "from keras.utils import np_utils\n",
    "import sys\n",
    "import matplotlib.pyplot as plt\n",
    "\n",
    "import tensorflow as tf\n",
    "import random"
   ]
  },
  {
   "cell_type": "markdown",
   "metadata": {},
   "source": [
    "# mnist 데이터 불러오기"
   ]
  },
  {
   "cell_type": "code",
   "execution_count": 2,
   "metadata": {},
   "outputs": [],
   "source": [
    "(xTrain,yTrain),(xTest,yTest) = mnist.load_data()"
   ]
  },
  {
   "cell_type": "code",
   "execution_count": 3,
   "metadata": {},
   "outputs": [
    {
     "data": {
      "text/plain": [
       "((60000, 28, 28), (60000,), (10000, 28, 28), (10000,))"
      ]
     },
     "execution_count": 3,
     "metadata": {},
     "output_type": "execute_result"
    }
   ],
   "source": [
    "xTrain.shape, yTrain.shape, xTest.shape, yTest.shape"
   ]
  },
  {
   "cell_type": "code",
   "execution_count": 4,
   "metadata": {},
   "outputs": [
    {
     "data": {
      "text/plain": [
       "<matplotlib.image.AxesImage at 0x29638b3eec8>"
      ]
     },
     "execution_count": 4,
     "metadata": {},
     "output_type": "execute_result"
    },
    {
     "data": {
      "image/png": "[encoded data removed]",
      "text/plain": [
       "<Figure size 432x288 with 1 Axes>"
      ]
     },
     "metadata": {
      "needs_background": "light"
     },
     "output_type": "display_data"
    }
   ],
   "source": [
    "plt.imshow(xTrain[0], cmap='Greys')"
   ]
  },
  {
   "cell_type": "code",
   "execution_count": 5,
   "metadata": {},
   "outputs": [
    {
     "name": "stdout",
     "output_type": "stream",
     "text": [
      "0\t0\t0\t0\t0\t0\t0\t0\t0\t0\t0\t0\t0\t0\t0\t0\t0\t0\t0\t0\t0\t0\t0\t0\t0\t0\t0\t0\t\n",
      "0\t0\t0\t0\t0\t0\t0\t0\t0\t0\t0\t0\t0\t0\t0\t0\t0\t0\t0\t0\t0\t0\t0\t0\t0\t0\t0\t0\t\n",
      "0\t0\t0\t0\t0\t0\t0\t0\t0\t0\t0\t0\t0\t0\t0\t0\t0\t0\t0\t0\t0\t0\t0\t0\t0\t0\t0\t0\t\n",
      "0\t0\t0\t0\t0\t0\t0\t0\t0\t0\t0\t0\t0\t0\t0\t0\t0\t0\t0\t0\t0\t0\t0\t0\t0\t0\t0\t0\t\n",
      "0\t0\t0\t0\t0\t0\t0\t0\t0\t0\t0\t0\t0\t0\t0\t0\t0\t0\t0\t0\t0\t0\t0\t0\t0\t0\t0\t0\t\n",
      "0\t0\t0\t0\t0\t0\t0\t0\t0\t0\t0\t0\t3\t18\t18\t18\t126\t136\t175\t26\t166\t255\t247\t127\t0\t0\t0\t0\t\n",
      "0\t0\t0\t0\t0\t0\t0\t0\t30\t36\t94\t154\t170\t253\t253\t253\t253\t253\t225\t172\t253\t242\t195\t64\t0\t0\t0\t0\t\n",
      "0\t0\t0\t0\t0\t0\t0\t49\t238\t253\t253\t253\t253\t253\t253\t253\t253\t251\t93\t82\t82\t56\t39\t0\t0\t0\t0\t0\t\n",
      "0\t0\t0\t0\t0\t0\t0\t18\t219\t253\t253\t253\t253\t253\t198\t182\t247\t241\t0\t0\t0\t0\t0\t0\t0\t0\t0\t0\t\n",
      "0\t0\t0\t0\t0\t0\t0\t0\t80\t156\t107\t253\t253\t205\t11\t0\t43\t154\t0\t0\t0\t0\t0\t0\t0\t0\t0\t0\t\n",
      "0\t0\t0\t0\t0\t0\t0\t0\t0\t14\t1\t154\t253\t90\t0\t0\t0\t0\t0\t0\t0\t0\t0\t0\t0\t0\t0\t0\t\n",
      "0\t0\t0\t0\t0\t0\t0\t0\t0\t0\t0\t139\t253\t190\t2\t0\t0\t0\t0\t0\t0\t0\t0\t0\t0\t0\t0\t0\t\n",
      "0\t0\t0\t0\t0\t0\t0\t0\t0\t0\t0\t11\t190\t253\t70\t0\t0\t0\t0\t0\t0\t0\t0\t0\t0\t0\t0\t0\t\n",
      "0\t0\t0\t0\t0\t0\t0\t0\t0\t0\t0\t0\t35\t241\t225\t160\t108\t1\t0\t0\t0\t0\t0\t0\t0\t0\t0\t0\t\n",
      "0\t0\t0\t0\t0\t0\t0\t0\t0\t0\t0\t0\t0\t81\t240\t253\t253\t119\t25\t0\t0\t0\t0\t0\t0\t0\t0\t0\t\n",
      "0\t0\t0\t0\t0\t0\t0\t0\t0\t0\t0\t0\t0\t0\t45\t186\t253\t253\t150\t27\t0\t0\t0\t0\t0\t0\t0\t0\t\n",
      "0\t0\t0\t0\t0\t0\t0\t0\t0\t0\t0\t0\t0\t0\t0\t16\t93\t252\t253\t187\t0\t0\t0\t0\t0\t0\t0\t0\t\n",
      "0\t0\t0\t0\t0\t0\t0\t0\t0\t0\t0\t0\t0\t0\t0\t0\t0\t249\t253\t249\t64\t0\t0\t0\t0\t0\t0\t0\t\n",
      "0\t0\t0\t0\t0\t0\t0\t0\t0\t0\t0\t0\t0\t0\t46\t130\t183\t253\t253\t207\t2\t0\t0\t0\t0\t0\t0\t0\t\n",
      "0\t0\t0\t0\t0\t0\t0\t0\t0\t0\t0\t0\t39\t148\t229\t253\t253\t253\t250\t182\t0\t0\t0\t0\t0\t0\t0\t0\t\n",
      "0\t0\t0\t0\t0\t0\t0\t0\t0\t0\t24\t114\t221\t253\t253\t253\t253\t201\t78\t0\t0\t0\t0\t0\t0\t0\t0\t0\t\n",
      "0\t0\t0\t0\t0\t0\t0\t0\t23\t66\t213\t253\t253\t253\t253\t198\t81\t2\t0\t0\t0\t0\t0\t0\t0\t0\t0\t0\t\n",
      "0\t0\t0\t0\t0\t0\t18\t171\t219\t253\t253\t253\t253\t195\t80\t9\t0\t0\t0\t0\t0\t0\t0\t0\t0\t0\t0\t0\t\n",
      "0\t0\t0\t0\t55\t172\t226\t253\t253\t253\t253\t244\t133\t11\t0\t0\t0\t0\t0\t0\t0\t0\t0\t0\t0\t0\t0\t0\t\n",
      "0\t0\t0\t0\t136\t253\t253\t253\t212\t135\t132\t16\t0\t0\t0\t0\t0\t0\t0\t0\t0\t0\t0\t0\t0\t0\t0\t0\t\n",
      "0\t0\t0\t0\t0\t0\t0\t0\t0\t0\t0\t0\t0\t0\t0\t0\t0\t0\t0\t0\t0\t0\t0\t0\t0\t0\t0\t0\t\n",
      "0\t0\t0\t0\t0\t0\t0\t0\t0\t0\t0\t0\t0\t0\t0\t0\t0\t0\t0\t0\t0\t0\t0\t0\t0\t0\t0\t0\t\n",
      "0\t0\t0\t0\t0\t0\t0\t0\t0\t0\t0\t0\t0\t0\t0\t0\t0\t0\t0\t0\t0\t0\t0\t0\t0\t0\t0\t0\t\n"
     ]
    }
   ],
   "source": [
    "for x in xTrain[0]:\n",
    "    for i in x:\n",
    "        sys.stdout.write(\"%d\\t\"%i) # sys.stdout표준출력장치 => 모니터로 출력해라\n",
    "    sys.stdout.write('\\n')"
   ]
  },
  {
   "cell_type": "code",
   "execution_count": 6,
   "metadata": {},
   "outputs": [
    {
     "name": "stdout",
     "output_type": "stream",
     "text": [
      "5\n"
     ]
    }
   ],
   "source": [
    "print(yTrain[0])"
   ]
  },
  {
   "cell_type": "markdown",
   "metadata": {},
   "source": [
    "## 데이터 변형"
   ]
  },
  {
   "cell_type": "code",
   "execution_count": 7,
   "metadata": {},
   "outputs": [
    {
     "name": "stdout",
     "output_type": "stream",
     "text": [
      "(60000, 28, 28)\n",
      "(60000, 784)\n"
     ]
    }
   ],
   "source": [
    "print(xTrain.shape)\n",
    "xTrain = xTrain.reshape(xTrain.shape[0],-1)\n",
    "print(xTrain.shape)\n",
    "xTrain = xTrain.astype('float64') # float64 메모리 공간을 많이 차지, 표현 범위가 넓어짐\n",
    "xTrain = xTrain/255\n",
    "\n",
    "xTest = xTest.reshape(xTest.shape[0],-1).astype('float64') /255"
   ]
  },
  {
   "cell_type": "code",
   "execution_count": 8,
   "metadata": {},
   "outputs": [
    {
     "name": "stdout",
     "output_type": "stream",
     "text": [
      "(60000,) (10000,)\n",
      "(60000, 10) (10000, 10)\n"
     ]
    }
   ],
   "source": [
    "print(yTrain.shape, yTest.shape)\n",
    "yTrain = np_utils.to_categorical(yTrain,10)\n",
    "yTest = np_utils.to_categorical(yTest,10)\n",
    "print(yTrain.shape, yTest.shape)"
   ]
  },
  {
   "cell_type": "code",
   "execution_count": 9,
   "metadata": {},
   "outputs": [],
   "source": [
    "from keras.models import Sequential\n",
    "from keras.layers import Dense\n",
    "from keras.callbacks import ModelCheckpoint, EarlyStopping\n",
    "import os"
   ]
  },
  {
   "cell_type": "markdown",
   "metadata": {},
   "source": [
    "## 모델 만들기"
   ]
  },
  {
   "cell_type": "code",
   "execution_count": 10,
   "metadata": {},
   "outputs": [
    {
     "name": "stdout",
     "output_type": "stream",
     "text": [
      "WARNING:tensorflow:From C:\\Users\\student\\Anaconda3\\lib\\site-packages\\tensorflow_core\\python\\ops\\resource_variable_ops.py:1630: calling BaseResourceVariable.__init__ (from tensorflow.python.ops.resource_variable_ops) with constraint is deprecated and will be removed in a future version.\n",
      "Instructions for updating:\n",
      "If using Keras pass *_constraint arguments to layers.\n"
     ]
    }
   ],
   "source": [
    "model = Sequential()\n",
    "model.add(Dense(512, input_dim=784, activation='relu'))\n",
    "model.add(Dense(10, activation='softmax'))\n",
    "model.compile(loss=\"categorical_crossentropy\", optimizer='adam', metrics=['accuracy'])"
   ]
  },
  {
   "cell_type": "markdown",
   "metadata": {},
   "source": [
    "### 모델 최적화\n",
    "- EarlyStopping\n",
    "- ModelCheckpoint : keras에서 학습할 때마다 중간중간에 콜백 형태로 알려주는 함수 \n",
    " - save_best_only : 모델의 정확도가 최고값을 갱신 했을때만 저장"
   ]
  },
  {
   "cell_type": "code",
   "execution_count": 14,
   "metadata": {},
   "outputs": [],
   "source": [
    "modelDir = './myModel/'\n",
    "if not os.path.exists(modelDir): # myModel 디렉토리가 존재하지 않는다면\n",
    "    os.mkdir(modelDir) \n",
    "modelPath = modelDir+'{epoch:02d}-{val_loss:.4f}.hdf5'\n",
    "\n",
    "checkpoint = ModelCheckpoint(filepath= modelPath, monitor='val_loss', verbose=1, save_best_only=True)\n",
    "es = EarlyStopping(monitor='val_loss', patience=10)"
   ]
  },
  {
   "cell_type": "code",
   "execution_count": 15,
   "metadata": {},
   "outputs": [
    {
     "name": "stdout",
     "output_type": "stream",
     "text": [
      "WARNING:tensorflow:From C:\\Users\\student\\Anaconda3\\lib\\site-packages\\keras\\backend\\tensorflow_backend.py:422: The name tf.global_variables is deprecated. Please use tf.compat.v1.global_variables instead.\n",
      "\n",
      "Train on 60000 samples, validate on 10000 samples\n",
      "Epoch 1/20\n",
      "60000/60000 [==============================] - 4s 60us/step - loss: 0.3036 - accuracy: 0.9151 - val_loss: 0.1621 - val_accuracy: 0.9528\n",
      "\n",
      "Epoch 00001: val_loss improved from inf to 0.16209, saving model to ./myModel/01-0.1621.hdf5\n",
      "Epoch 2/20\n",
      "60000/60000 [==============================] - 3s 58us/step - loss: 0.1231 - accuracy: 0.9640 - val_loss: 0.1068 - val_accuracy: 0.9692\n",
      "\n",
      "Epoch 00002: val_loss improved from 0.16209 to 0.10677, saving model to ./myModel/02-0.1068.hdf5\n",
      "Epoch 3/20\n",
      "60000/60000 [==============================] - 4s 59us/step - loss: 0.0817 - accuracy: 0.9765 - val_loss: 0.0863 - val_accuracy: 0.9739\n",
      "\n",
      "Epoch 00003: val_loss improved from 0.10677 to 0.08626, saving model to ./myModel/03-0.0863.hdf5\n",
      "Epoch 4/20\n",
      "60000/60000 [==============================] - 3s 55us/step - loss: 0.0593 - accuracy: 0.9834 - val_loss: 0.0741 - val_accuracy: 0.9772\n",
      "\n",
      "Epoch 00004: val_loss improved from 0.08626 to 0.07412, saving model to ./myModel/04-0.0741.hdf5\n",
      "Epoch 5/20\n",
      "60000/60000 [==============================] - 4s 67us/step - loss: 0.0449 - accuracy: 0.9868 - val_loss: 0.0686 - val_accuracy: 0.9775\n",
      "\n",
      "Epoch 00005: val_loss improved from 0.07412 to 0.06861, saving model to ./myModel/05-0.0686.hdf5\n",
      "Epoch 6/20\n",
      "60000/60000 [==============================] - 3s 57us/step - loss: 0.0344 - accuracy: 0.9905 - val_loss: 0.0678 - val_accuracy: 0.9792\n",
      "\n",
      "Epoch 00006: val_loss improved from 0.06861 to 0.06777, saving model to ./myModel/06-0.0678.hdf5\n",
      "Epoch 7/20\n",
      "60000/60000 [==============================] - 3s 57us/step - loss: 0.0254 - accuracy: 0.9935 - val_loss: 0.0597 - val_accuracy: 0.9820\n",
      "\n",
      "Epoch 00007: val_loss improved from 0.06777 to 0.05969, saving model to ./myModel/07-0.0597.hdf5\n",
      "Epoch 8/20\n",
      "60000/60000 [==============================] - 4s 70us/step - loss: 0.0202 - accuracy: 0.9951 - val_loss: 0.0629 - val_accuracy: 0.9813\n",
      "\n",
      "Epoch 00008: val_loss did not improve from 0.05969\n",
      "Epoch 9/20\n",
      "60000/60000 [==============================] - 4s 61us/step - loss: 0.0156 - accuracy: 0.9962 - val_loss: 0.0646 - val_accuracy: 0.9803\n",
      "\n",
      "Epoch 00009: val_loss did not improve from 0.05969\n",
      "Epoch 10/20\n",
      "60000/60000 [==============================] - 3s 57us/step - loss: 0.0123 - accuracy: 0.9975 - val_loss: 0.0797 - val_accuracy: 0.9770\n",
      "\n",
      "Epoch 00010: val_loss did not improve from 0.05969\n",
      "Epoch 11/20\n",
      "60000/60000 [==============================] - 4s 59us/step - loss: 0.0098 - accuracy: 0.9981 - val_loss: 0.0627 - val_accuracy: 0.9804\n",
      "\n",
      "Epoch 00011: val_loss did not improve from 0.05969\n",
      "Epoch 12/20\n",
      "60000/60000 [==============================] - 4s 67us/step - loss: 0.0073 - accuracy: 0.9990 - val_loss: 0.0644 - val_accuracy: 0.9821\n",
      "\n",
      "Epoch 00012: val_loss did not improve from 0.05969\n",
      "Epoch 13/20\n",
      "60000/60000 [==============================] - 4s 60us/step - loss: 0.0057 - accuracy: 0.9992 - val_loss: 0.0609 - val_accuracy: 0.9826\n",
      "\n",
      "Epoch 00013: val_loss did not improve from 0.05969\n",
      "Epoch 14/20\n",
      "60000/60000 [==============================] - 4s 59us/step - loss: 0.0043 - accuracy: 0.9995 - val_loss: 0.0672 - val_accuracy: 0.9821\n",
      "\n",
      "Epoch 00014: val_loss did not improve from 0.05969\n",
      "Epoch 15/20\n",
      "60000/60000 [==============================] - 4s 60us/step - loss: 0.0036 - accuracy: 0.9997 - val_loss: 0.0624 - val_accuracy: 0.9824\n",
      "\n",
      "Epoch 00015: val_loss did not improve from 0.05969\n",
      "Epoch 16/20\n",
      "60000/60000 [==============================] - 3s 57us/step - loss: 0.0021 - accuracy: 0.9999 - val_loss: 0.0634 - val_accuracy: 0.9832\n",
      "\n",
      "Epoch 00016: val_loss did not improve from 0.05969\n",
      "Epoch 17/20\n",
      "60000/60000 [==============================] - 3s 58us/step - loss: 0.0015 - accuracy: 0.9999 - val_loss: 0.0664 - val_accuracy: 0.9824\n",
      "\n",
      "Epoch 00017: val_loss did not improve from 0.05969\n"
     ]
    }
   ],
   "source": [
    "historty = model.fit(xTrain, yTrain,\n",
    "                     validation_data=(xTest,yTest),\n",
    "                     epochs=20, batch_size=200,\n",
    "                     callbacks=[es,checkpoint])"
   ]
  },
  {
   "cell_type": "code",
   "execution_count": 16,
   "metadata": {},
   "outputs": [
    {
     "name": "stdout",
     "output_type": "stream",
     "text": [
      "10000/10000 [==============================] - 1s 51us/step\n",
      "테스트 정확도: 0.9824\n"
     ]
    }
   ],
   "source": [
    "print(\"테스트 정확도: %.4f\"%(model.evaluate(xTest,yTest)[1]))"
   ]
  },
  {
   "cell_type": "code",
   "execution_count": 17,
   "metadata": {},
   "outputs": [
    {
     "data": {
      "image/png": "[encoded data removed]",
      "text/plain": [
       "<Figure size 432x288 with 1 Axes>"
      ]
     },
     "metadata": {
      "needs_background": "light"
     },
     "output_type": "display_data"
    }
   ],
   "source": [
    "yLoss = historty.history['loss']\n",
    "yVloss = historty.history['val_loss']\n",
    "\n",
    "xLen = np.arange(len(yLoss))\n",
    "plt.plot(xLen,yVloss, marker='.',c='r',label='test_loss')\n",
    "plt.plot(xLen,yLoss, marker='.',c='b',label='train_loss')\n",
    "plt.legend()\n",
    "plt.grid()\n",
    "plt.xlabel('epoch')\n",
    "plt.ylabel('loss')\n",
    "plt.show()"
   ]
  },
  {
   "cell_type": "markdown",
   "metadata": {},
   "source": [
    "## 2. CNN으로 \n",
    "- 이미지에서 특징 추출 by 필터\n",
    "- Conv2d : 컨볼루션 계층을 추가하는 함수"
   ]
  },
  {
   "cell_type": "markdown",
   "metadata": {},
   "source": [
    "dropout\n",
    "- 오버피팅을 줄일 수 있는 방법 중 하나\n",
    "- 히든 계층의 노드 중 일부를 선택하여 학습하는 기법\n",
    " - 학습데이터에 지나치게 치우쳐서 학습 되어지는 과적합 방지"
   ]
  },
  {
   "cell_type": "code",
   "execution_count": 19,
   "metadata": {},
   "outputs": [],
   "source": [
    "from keras.layers import *"
   ]
  },
  {
   "cell_type": "markdown",
   "metadata": {},
   "source": [
    "Conv2D(필터 개수, kernerl_size=필터크기(행,열), input_shape=입력된 값(행,열,흑백), 활성화함수)"
   ]
  },
  {
   "cell_type": "code",
   "execution_count": 20,
   "metadata": {},
   "outputs": [
    {
     "name": "stdout",
     "output_type": "stream",
     "text": [
      "WARNING:tensorflow:From C:\\Users\\student\\Anaconda3\\lib\\site-packages\\keras\\backend\\tensorflow_backend.py:4070: The name tf.nn.max_pool is deprecated. Please use tf.nn.max_pool2d instead.\n",
      "\n"
     ]
    }
   ],
   "source": [
    "# 모델 만들기\n",
    "model = Sequential()\n",
    "model.add(Conv2D(32, kernel_size=(3,3),input_shape=(28,28,1), activation='relu'))\n",
    "model.add(Conv2D(64, kernel_size=(3,3), activation='relu'))\n",
    "model.add(MaxPooling2D(pool_size=2))\n",
    "model.add(Dropout(0.25)) # 드롭아웃 비율 -> 25%를 안쓰겠다\n",
    "model.add(Flatten()) # 1차원으로 변경\n",
    "\n",
    "model.add(Dense(128, activation='relu'))\n",
    "model.add(Dropout(0.5))\n",
    "\n",
    "model.add(Dense(10, activation='softmax'))\n",
    "model.compile(loss=\"categorical_crossentropy\", optimizer='adam', metrics=['accuracy'])"
   ]
  },
  {
   "cell_type": "code",
   "execution_count": 23,
   "metadata": {},
   "outputs": [
    {
     "name": "stdout",
     "output_type": "stream",
     "text": [
      "(60000, 28, 28) => (60000, 28, 28, 1)\n",
      "(60000,) (10000,) => (60000, 10) (10000, 10)\n"
     ]
    }
   ],
   "source": [
    "(xTrain,yTrain),(xTest,yTest) = mnist.load_data()\n",
    "\n",
    "print(xTrain.shape,\"=> \",end=\"\")\n",
    "xTrain = xTrain.reshape(xTrain.shape[0],28,28,-1)\n",
    "print(xTrain.shape)\n",
    "xTrain = xTrain.astype('float64')\n",
    "xTrain = xTrain/255\n",
    "xTest = xTest.reshape(xTest.shape[0],28,28,-1).astype('float64') /255\n",
    "\n",
    "print(yTrain.shape, yTest.shape,\"=> \",end=\"\")\n",
    "yTrain = np_utils.to_categorical(yTrain,10)\n",
    "yTest = np_utils.to_categorical(yTest,10)\n",
    "print(yTrain.shape, yTest.shape)"
   ]
  },
  {
   "cell_type": "code",
   "execution_count": 24,
   "metadata": {},
   "outputs": [
    {
     "name": "stdout",
     "output_type": "stream",
     "text": [
      "Train on 60000 samples, validate on 10000 samples\n",
      "Epoch 1/20\n",
      "60000/60000 [==============================] - 84s 1ms/step - loss: 0.2754 - accuracy: 0.9185 - val_loss: 0.0557 - val_accuracy: 0.9827\n",
      "\n",
      "Epoch 00001: val_loss improved from inf to 0.05571, saving model to ./myCnnModel/01-0.0557.hdf5\n",
      "Epoch 2/20\n",
      "60000/60000 [==============================] - 80s 1ms/step - loss: 0.0891 - accuracy: 0.9736 - val_loss: 0.0400 - val_accuracy: 0.9864\n",
      "\n",
      "Epoch 00002: val_loss improved from 0.05571 to 0.03998, saving model to ./myCnnModel/02-0.0400.hdf5\n",
      "Epoch 3/20\n",
      "60000/60000 [==============================] - 78s 1ms/step - loss: 0.0694 - accuracy: 0.9795 - val_loss: 0.0349 - val_accuracy: 0.9884\n",
      "\n",
      "Epoch 00003: val_loss improved from 0.03998 to 0.03488, saving model to ./myCnnModel/03-0.0349.hdf5\n",
      "Epoch 4/20\n",
      "60000/60000 [==============================] - 85s 1ms/step - loss: 0.0559 - accuracy: 0.9829 - val_loss: 0.0287 - val_accuracy: 0.9893\n",
      "\n",
      "Epoch 00004: val_loss improved from 0.03488 to 0.02872, saving model to ./myCnnModel/04-0.0287.hdf5\n",
      "Epoch 5/20\n",
      "60000/60000 [==============================] - 85s 1ms/step - loss: 0.0471 - accuracy: 0.9858 - val_loss: 0.0326 - val_accuracy: 0.9895\n",
      "\n",
      "Epoch 00005: val_loss did not improve from 0.02872\n",
      "Epoch 6/20\n",
      "60000/60000 [==============================] - 82s 1ms/step - loss: 0.0422 - accuracy: 0.9866 - val_loss: 0.0308 - val_accuracy: 0.9895\n",
      "\n",
      "Epoch 00006: val_loss did not improve from 0.02872\n",
      "Epoch 7/20\n",
      "60000/60000 [==============================] - 82s 1ms/step - loss: 0.0366 - accuracy: 0.9877 - val_loss: 0.0272 - val_accuracy: 0.9915\n",
      "\n",
      "Epoch 00007: val_loss improved from 0.02872 to 0.02715, saving model to ./myCnnModel/07-0.0272.hdf5\n",
      "Epoch 8/20\n",
      "60000/60000 [==============================] - 78s 1ms/step - loss: 0.0326 - accuracy: 0.9896 - val_loss: 0.0268 - val_accuracy: 0.9908\n",
      "\n",
      "Epoch 00008: val_loss improved from 0.02715 to 0.02678, saving model to ./myCnnModel/08-0.0268.hdf5\n",
      "Epoch 9/20\n",
      "60000/60000 [==============================] - 81s 1ms/step - loss: 0.0299 - accuracy: 0.9905 - val_loss: 0.0290 - val_accuracy: 0.9909\n",
      "\n",
      "Epoch 00009: val_loss did not improve from 0.02678\n",
      "Epoch 10/20\n",
      "60000/60000 [==============================] - 80s 1ms/step - loss: 0.0274 - accuracy: 0.9912 - val_loss: 0.0279 - val_accuracy: 0.9917\n",
      "\n",
      "Epoch 00010: val_loss did not improve from 0.02678\n",
      "Epoch 11/20\n",
      "60000/60000 [==============================] - 81s 1ms/step - loss: 0.0249 - accuracy: 0.9917 - val_loss: 0.0263 - val_accuracy: 0.9918\n",
      "\n",
      "Epoch 00011: val_loss improved from 0.02678 to 0.02625, saving model to ./myCnnModel/11-0.0263.hdf5\n",
      "Epoch 12/20\n",
      "60000/60000 [==============================] - 81s 1ms/step - loss: 0.0238 - accuracy: 0.9919 - val_loss: 0.0279 - val_accuracy: 0.9920\n",
      "\n",
      "Epoch 00012: val_loss did not improve from 0.02625\n",
      "Epoch 13/20\n",
      "60000/60000 [==============================] - 81s 1ms/step - loss: 0.0227 - accuracy: 0.9924 - val_loss: 0.0277 - val_accuracy: 0.9918\n",
      "\n",
      "Epoch 00013: val_loss did not improve from 0.02625\n",
      "Epoch 14/20\n",
      "60000/60000 [==============================] - 80s 1ms/step - loss: 0.0209 - accuracy: 0.9930 - val_loss: 0.0306 - val_accuracy: 0.9925\n",
      "\n",
      "Epoch 00014: val_loss did not improve from 0.02625\n",
      "Epoch 15/20\n",
      "60000/60000 [==============================] - 77s 1ms/step - loss: 0.0187 - accuracy: 0.9935 - val_loss: 0.0312 - val_accuracy: 0.9919\n",
      "\n",
      "Epoch 00015: val_loss did not improve from 0.02625\n",
      "Epoch 16/20\n",
      "60000/60000 [==============================] - 79s 1ms/step - loss: 0.0198 - accuracy: 0.9934 - val_loss: 0.0274 - val_accuracy: 0.9932\n",
      "\n",
      "Epoch 00016: val_loss did not improve from 0.02625\n",
      "Epoch 17/20\n",
      "60000/60000 [==============================] - 81s 1ms/step - loss: 0.0168 - accuracy: 0.9941 - val_loss: 0.0292 - val_accuracy: 0.9923\n",
      "\n",
      "Epoch 00017: val_loss did not improve from 0.02625\n",
      "Epoch 18/20\n",
      "60000/60000 [==============================] - 79s 1ms/step - loss: 0.0154 - accuracy: 0.9947 - val_loss: 0.0300 - val_accuracy: 0.9924\n",
      "\n",
      "Epoch 00018: val_loss did not improve from 0.02625\n",
      "Epoch 19/20\n",
      "60000/60000 [==============================] - 80s 1ms/step - loss: 0.0156 - accuracy: 0.9949 - val_loss: 0.0296 - val_accuracy: 0.9924\n",
      "\n",
      "Epoch 00019: val_loss did not improve from 0.02625\n",
      "Epoch 20/20\n",
      "60000/60000 [==============================] - 78s 1ms/step - loss: 0.0139 - accuracy: 0.9951 - val_loss: 0.0348 - val_accuracy: 0.9923\n",
      "\n",
      "Epoch 00020: val_loss did not improve from 0.02625\n"
     ]
    }
   ],
   "source": [
    "modelDir = './myCnnModel/'\n",
    "if not os.path.exists(modelDir): # myModel 디렉토리가 존재하지 않는다면\n",
    "    os.mkdir(modelDir)\n",
    "modelPath = './myCnnModel/{epoch:02d}-{val_loss:.4f}.hdf5'\n",
    "checkpoint = ModelCheckpoint(filepath = modelPath, monitor='val_loss', verbose=1,save_best_only=True)\n",
    "es = EarlyStopping(monitor='val_loss', patience=10)\n",
    "\n",
    "historty = model.fit(xTrain, yTrain,\n",
    "                     validation_data=(xTest,yTest),\n",
    "                     epochs=20, batch_size=200,\n",
    "                     callbacks=[es,checkpoint])"
   ]
  },
  {
   "cell_type": "markdown",
   "metadata": {},
   "source": [
    "```\n",
    "model.save('모델파일명.h5')\n",
    "from keras.models import load_model\n",
    "model = load_model(\"모델파일명.h5\")\n",
    "model.summary() # 모델구조\n",
    "분류결과 = model.predict_classes(테스트 데이터)\n",
    "```"
   ]
  },
  {
   "cell_type": "code",
   "execution_count": 82,
   "metadata": {},
   "outputs": [
    {
     "data": {
      "image/png": "[encoded data removed]",
      "text/plain": [
       "<Figure size 432x288 with 8 Axes>"
      ]
     },
     "metadata": {
      "needs_background": "light"
     },
     "output_type": "display_data"
    }
   ],
   "source": [
    "# 예측이 틀린 이미지를 8개 출력\n",
    "pred = model.predict(xTest)\n",
    "i = 0\n",
    "c = 1\n",
    "stop=0\n",
    "while stop < 8:\n",
    "    if list(pred[i]).index(max(pred[i])) != list(yTest[i]).index(1):\n",
    "        plt.subplot(2,4,c)\n",
    "        plt.imshow(xTest[i].reshape(28,-1), cmap=\"Greys\")\n",
    "        t = 'label: '+str(list(yTest[i]).index(1))+' predict: '+str(list(pred[i]).index(max(pred[i])))\n",
    "        plt.title(t)\n",
    "        c+=1\n",
    "        stop+=1\n",
    "    i+=1"
   ]
  },
  {
   "cell_type": "markdown",
   "metadata": {},
   "source": [
    "# 이미지 데이터 불러와서"
   ]
  },
  {
   "cell_type": "markdown",
   "metadata": {},
   "source": [
    "# ImageDataGenerator\n",
    "이미지 증식\n",
    "\n",
    "1. image generator() : 객체 생성\n",
    "2. flow_from_directory() 호출 -> generator 생성"
   ]
  },
  {
   "cell_type": "code",
   "execution_count": 104,
   "metadata": {},
   "outputs": [],
   "source": [
    "from keras.preprocessing.image import ImageDataGenerator"
   ]
  },
  {
   "cell_type": "code",
   "execution_count": 117,
   "metadata": {},
   "outputs": [
    {
     "name": "stdout",
     "output_type": "stream",
     "text": [
      "Found 45 images belonging to 3 classes.\n"
     ]
    }
   ],
   "source": [
    "trainDataGen = ImageDataGenerator(rescale=1./255)\n",
    "trainGenerator = trainDataGen.flow_from_directory('./data/img_data/train', # data 디렉토리\n",
    "                                                  target_size=(24,24),\n",
    "                                                  batch_size=3,\n",
    "                                                  class_mode='categorical')"
   ]
  },
  {
   "cell_type": "code",
   "execution_count": 118,
   "metadata": {},
   "outputs": [
    {
     "name": "stdout",
     "output_type": "stream",
     "text": [
      "Found 15 images belonging to 3 classes.\n"
     ]
    }
   ],
   "source": [
    "testDataGen = ImageDataGenerator(rescale=1./255)\n",
    "testGenerator = testDataGen.flow_from_directory('./data/img_data/test', # data 디렉토리\n",
    "                                                target_size=(24,24),\n",
    "                                                batch_size=3,\n",
    "                                                class_mode='categorical')"
   ]
  },
  {
   "cell_type": "code",
   "execution_count": 119,
   "metadata": {},
   "outputs": [],
   "source": [
    "# 크기(24,24), 채널:3, 필터:3*3, 필터개수:32, relu\n",
    "# 필터 3*3, 필터개수 64.relu\n",
    "# maxpool : 2*2\n",
    "# flatten: 128개 뉴런 출력-> softmax\n",
    "    \n",
    "model = Sequential()\n",
    "model.add(Conv2D(32, kernel_size=(3,3), activation='relu', input_shape=(24,24,3)))\n",
    "model.add(Conv2D(64, kernel_size=(3,3), activation='relu'))\n",
    "model.add(MaxPool2D(pool_size=(2,2)))\n",
    "model.add(Flatten())\n",
    "model.add(Dense(128, activation='relu'))\n",
    "model.add(Dense(3, activation='softmax'))"
   ]
  },
  {
   "cell_type": "code",
   "execution_count": 120,
   "metadata": {},
   "outputs": [
    {
     "name": "stdout",
     "output_type": "stream",
     "text": [
      "Model: \"sequential_7\"\n",
      "_________________________________________________________________\n",
      "Layer (type)                 Output Shape              Param #   \n",
      "=================================================================\n",
      "conv2d_10 (Conv2D)           (None, 22, 22, 32)        896       \n",
      "_________________________________________________________________\n",
      "conv2d_11 (Conv2D)           (None, 20, 20, 64)        18496     \n",
      "_________________________________________________________________\n",
      "max_pooling2d_3 (MaxPooling2 (None, 10, 10, 64)        0         \n",
      "_________________________________________________________________\n",
      "flatten_3 (Flatten)          (None, 6400)              0         \n",
      "_________________________________________________________________\n",
      "dense_7 (Dense)              (None, 128)               819328    \n",
      "_________________________________________________________________\n",
      "dense_8 (Dense)              (None, 3)                 387       \n",
      "=================================================================\n",
      "Total params: 839,107\n",
      "Trainable params: 839,107\n",
      "Non-trainable params: 0\n",
      "_________________________________________________________________\n"
     ]
    }
   ],
   "source": [
    "model.summary()"
   ]
  },
  {
   "cell_type": "code",
   "execution_count": 121,
   "metadata": {},
   "outputs": [],
   "source": [
    "model.compile(loss='categorical_crossentropy',\n",
    "              optimizer='adam',\n",
    "              metrics=['accuracy'])"
   ]
  },
  {
   "cell_type": "code",
   "execution_count": 124,
   "metadata": {},
   "outputs": [
    {
     "name": "stdout",
     "output_type": "stream",
     "text": [
      "Epoch 1/50\n",
      "15/15 [==============================] - 1s 43ms/step - loss: 1.1799 - accuracy: 0.4222 - val_loss: 0.6473 - val_accuracy: 1.0000\n",
      "Epoch 2/50\n",
      "15/15 [==============================] - 0s 16ms/step - loss: 0.3294 - accuracy: 1.0000 - val_loss: 0.1146 - val_accuracy: 0.9333\n",
      "Epoch 3/50\n",
      "15/15 [==============================] - 0s 21ms/step - loss: 0.0475 - accuracy: 1.0000 - val_loss: 0.0862 - val_accuracy: 1.0000\n",
      "Epoch 4/50\n",
      "15/15 [==============================] - 0s 23ms/step - loss: 0.0041 - accuracy: 1.0000 - val_loss: 3.4699e-04 - val_accuracy: 1.0000\n",
      "Epoch 5/50\n",
      "15/15 [==============================] - 0s 20ms/step - loss: 6.4135e-04 - accuracy: 1.0000 - val_loss: 0.0038 - val_accuracy: 1.0000\n",
      "Epoch 6/50\n",
      "15/15 [==============================] - 0s 21ms/step - loss: 3.4421e-04 - accuracy: 1.0000 - val_loss: 2.1065e-04 - val_accuracy: 1.0000\n",
      "Epoch 7/50\n",
      "15/15 [==============================] - 0s 20ms/step - loss: 1.9132e-04 - accuracy: 1.0000 - val_loss: 7.0449e-05 - val_accuracy: 1.0000\n",
      "Epoch 8/50\n",
      "15/15 [==============================] - 0s 22ms/step - loss: 1.3226e-04 - accuracy: 1.0000 - val_loss: 0.0302 - val_accuracy: 1.0000\n",
      "Epoch 9/50\n",
      "15/15 [==============================] - 0s 17ms/step - loss: 9.4183e-05 - accuracy: 1.0000 - val_loss: 4.4838e-04 - val_accuracy: 1.0000\n",
      "Epoch 10/50\n",
      "15/15 [==============================] - 0s 19ms/step - loss: 7.6631e-05 - accuracy: 1.0000 - val_loss: 0.0037 - val_accuracy: 1.0000\n",
      "Epoch 11/50\n",
      "15/15 [==============================] - 0s 18ms/step - loss: 6.4904e-05 - accuracy: 1.0000 - val_loss: 3.0675e-04 - val_accuracy: 1.0000\n",
      "Epoch 12/50\n",
      "15/15 [==============================] - 0s 20ms/step - loss: 5.4717e-05 - accuracy: 1.0000 - val_loss: 0.0030 - val_accuracy: 1.0000\n",
      "Epoch 13/50\n",
      "15/15 [==============================] - 0s 20ms/step - loss: 4.6988e-05 - accuracy: 1.0000 - val_loss: 4.5179e-05 - val_accuracy: 1.0000\n",
      "Epoch 14/50\n",
      "15/15 [==============================] - 0s 23ms/step - loss: 3.8778e-05 - accuracy: 1.0000 - val_loss: 4.5240e-04 - val_accuracy: 1.0000\n",
      "Epoch 15/50\n",
      "15/15 [==============================] - 0s 21ms/step - loss: 3.1546e-05 - accuracy: 1.0000 - val_loss: 1.3709e-05 - val_accuracy: 1.0000\n",
      "Epoch 16/50\n",
      "15/15 [==============================] - 0s 21ms/step - loss: 2.2344e-05 - accuracy: 1.0000 - val_loss: 1.2596e-05 - val_accuracy: 1.0000\n",
      "Epoch 17/50\n",
      "15/15 [==============================] - 0s 21ms/step - loss: 1.6000e-05 - accuracy: 1.0000 - val_loss: 1.9749e-05 - val_accuracy: 1.0000\n",
      "Epoch 18/50\n",
      "15/15 [==============================] - 0s 17ms/step - loss: 9.9657e-06 - accuracy: 1.0000 - val_loss: 5.0740e-05 - val_accuracy: 1.0000\n",
      "Epoch 19/50\n",
      "15/15 [==============================] - 0s 19ms/step - loss: 7.6663e-06 - accuracy: 1.0000 - val_loss: 0.0154 - val_accuracy: 1.0000\n",
      "Epoch 20/50\n",
      "15/15 [==============================] - 0s 18ms/step - loss: 4.5432e-06 - accuracy: 1.0000 - val_loss: 0.0192 - val_accuracy: 1.0000\n",
      "Epoch 21/50\n",
      "15/15 [==============================] - 0s 19ms/step - loss: 3.1365e-06 - accuracy: 1.0000 - val_loss: 3.5763e-06 - val_accuracy: 1.0000\n",
      "Epoch 22/50\n",
      "15/15 [==============================] - 0s 22ms/step - loss: 2.3921e-06 - accuracy: 1.0000 - val_loss: 1.3629e-05 - val_accuracy: 1.0000\n",
      "Epoch 23/50\n",
      "15/15 [==============================] - 0s 22ms/step - loss: 1.9577e-06 - accuracy: 1.0000 - val_loss: 2.2332e-05 - val_accuracy: 1.0000\n",
      "Epoch 24/50\n",
      "15/15 [==============================] - 0s 21ms/step - loss: 1.6239e-06 - accuracy: 1.0000 - val_loss: 7.3812e-04 - val_accuracy: 1.0000\n",
      "Epoch 25/50\n",
      "15/15 [==============================] - 0s 27ms/step - loss: 1.3113e-06 - accuracy: 1.0000 - val_loss: 0.0106 - val_accuracy: 1.0000\n",
      "Epoch 26/50\n",
      "15/15 [==============================] - 0s 18ms/step - loss: 1.0808e-06 - accuracy: 1.0000 - val_loss: 5.9809e-04 - val_accuracy: 1.0000\n",
      "Epoch 27/50\n",
      "15/15 [==============================] - 0s 19ms/step - loss: 9.7751e-07 - accuracy: 1.0000 - val_loss: 0.0126 - val_accuracy: 1.0000\n",
      "Epoch 28/50\n",
      "15/15 [==============================] - 0s 18ms/step - loss: 8.6625e-07 - accuracy: 1.0000 - val_loss: 5.1657e-07 - val_accuracy: 1.0000\n",
      "Epoch 29/50\n",
      "15/15 [==============================] - 0s 22ms/step - loss: 7.6559e-07 - accuracy: 1.0000 - val_loss: 9.6558e-06 - val_accuracy: 1.0000\n",
      "Epoch 30/50\n",
      "15/15 [==============================] - 0s 22ms/step - loss: 7.0201e-07 - accuracy: 1.0000 - val_loss: 0.0176 - val_accuracy: 1.0000\n",
      "Epoch 31/50\n",
      "15/15 [==============================] - 0s 22ms/step - loss: 6.3048e-07 - accuracy: 1.0000 - val_loss: 6.6757e-06 - val_accuracy: 1.0000\n",
      "Epoch 32/50\n",
      "15/15 [==============================] - 0s 21ms/step - loss: 5.7485e-07 - accuracy: 1.0000 - val_loss: 1.9868e-07 - val_accuracy: 1.0000\n",
      "Epoch 33/50\n",
      "15/15 [==============================] - 0s 17ms/step - loss: 5.1657e-07 - accuracy: 1.0000 - val_loss: 2.3842e-07 - val_accuracy: 1.0000\n",
      "Epoch 34/50\n",
      "15/15 [==============================] - 0s 19ms/step - loss: 4.7684e-07 - accuracy: 1.0000 - val_loss: 2.3047e-06 - val_accuracy: 1.0000\n",
      "Epoch 35/50\n",
      "15/15 [==============================] - 0s 18ms/step - loss: 4.3445e-07 - accuracy: 1.0000 - val_loss: 4.6320e-04 - val_accuracy: 1.0000\n",
      "Epoch 36/50\n",
      "15/15 [==============================] - 0s 32ms/step - loss: 4.0796e-07 - accuracy: 1.0000 - val_loss: 0.0067 - val_accuracy: 1.0000\n",
      "Epoch 37/50\n",
      "15/15 [==============================] - 0s 25ms/step - loss: 3.7617e-07 - accuracy: 1.0000 - val_loss: 7.1526e-07 - val_accuracy: 1.0000\n",
      "Epoch 38/50\n",
      "15/15 [==============================] - 0s 23ms/step - loss: 3.5763e-07 - accuracy: 1.0000 - val_loss: 9.6956e-06 - val_accuracy: 1.0000\n",
      "Epoch 39/50\n",
      "15/15 [==============================] - 0s 22ms/step - loss: 3.3379e-07 - accuracy: 1.0000 - val_loss: 6.7552e-07 - val_accuracy: 1.0000\n",
      "Epoch 40/50\n",
      "15/15 [==============================] - 0s 20ms/step - loss: 3.0465e-07 - accuracy: 1.0000 - val_loss: 5.2054e-06 - val_accuracy: 1.0000\n",
      "Epoch 41/50\n",
      "15/15 [==============================] - 0s 21ms/step - loss: 2.8345e-07 - accuracy: 1.0000 - val_loss: 0.0060 - val_accuracy: 1.0000\n",
      "Epoch 42/50\n",
      "15/15 [==============================] - 0s 20ms/step - loss: 2.7021e-07 - accuracy: 1.0000 - val_loss: 4.7286e-06 - val_accuracy: 1.0000\n",
      "Epoch 43/50\n",
      "15/15 [==============================] - 0s 20ms/step - loss: 2.4901e-07 - accuracy: 1.0000 - val_loss: 3.8942e-06 - val_accuracy: 1.0000\n",
      "Epoch 44/50\n",
      "15/15 [==============================] - 0s 20ms/step - loss: 2.4107e-07 - accuracy: 1.0000 - val_loss: 3.7351e-04 - val_accuracy: 1.0000\n",
      "Epoch 45/50\n",
      "15/15 [==============================] - 0s 21ms/step - loss: 2.1987e-07 - accuracy: 1.0000 - val_loss: 3.5263e-04 - val_accuracy: 1.0000\n",
      "Epoch 46/50\n",
      "15/15 [==============================] - 0s 22ms/step - loss: 2.1723e-07 - accuracy: 1.0000 - val_loss: 5.1657e-07 - val_accuracy: 1.0000\n",
      "Epoch 47/50\n",
      "15/15 [==============================] - 0s 20ms/step - loss: 2.0398e-07 - accuracy: 1.0000 - val_loss: 0.0052 - val_accuracy: 1.0000\n",
      "Epoch 48/50\n",
      "15/15 [==============================] - 0s 21ms/step - loss: 1.9073e-07 - accuracy: 1.0000 - val_loss: 0.0052 - val_accuracy: 1.0000\n",
      "Epoch 49/50\n",
      "15/15 [==============================] - 0s 21ms/step - loss: 1.8014e-07 - accuracy: 1.0000 - val_loss: 4.3710e-07 - val_accuracy: 1.0000\n",
      "Epoch 50/50\n",
      "15/15 [==============================] - 0s 19ms/step - loss: 1.7219e-07 - accuracy: 1.0000 - val_loss: 3.7749e-06 - val_accuracy: 1.0000\n"
     ]
    },
    {
     "data": {
      "text/plain": [
       "<keras.callbacks.callbacks.History at 0x1b7c6b52788>"
      ]
     },
     "execution_count": 124,
     "metadata": {},
     "output_type": "execute_result"
    }
   ],
   "source": [
    "model.fit_generator(trainGenerator,\n",
    "                    steps_per_epoch = 15,\n",
    "                    epochs = 50,\n",
    "                    validation_data = testGenerator,\n",
    "                    validation_steps = 5)"
   ]
  },
  {
   "cell_type": "code",
   "execution_count": 125,
   "metadata": {},
   "outputs": [
    {
     "name": "stdout",
     "output_type": "stream",
     "text": [
      "[2.6225945930491434e-06, 1.0]\n"
     ]
    }
   ],
   "source": [
    "scores = model.evaluate_generator(testGenerator, steps=5)\n",
    "print(scores)"
   ]
  },
  {
   "cell_type": "code",
   "execution_count": 126,
   "metadata": {},
   "outputs": [
    {
     "name": "stdout",
     "output_type": "stream",
     "text": [
      "[[9.99996901e-01 3.07660457e-06 7.96907651e-10]\n",
      " [3.22218696e-09 1.00000000e+00 6.20898577e-09]\n",
      " [1.92256974e-11 1.11831037e-06 9.99998927e-01]\n",
      " [9.89488763e-06 9.99989986e-01 7.17638571e-08]\n",
      " [8.09677690e-03 9.84766126e-01 7.13710906e-03]\n",
      " [3.54823612e-07 1.52981514e-02 9.84701514e-01]\n",
      " [1.36380525e-08 8.03410614e-07 9.99999166e-01]\n",
      " [1.00000000e+00 4.98397412e-08 1.50610809e-11]\n",
      " [2.69703584e-08 9.94698610e-04 9.99005258e-01]\n",
      " [2.06009801e-07 9.99999762e-01 8.84889939e-09]\n",
      " [1.00000000e+00 3.12774229e-09 1.33239855e-13]\n",
      " [1.00000000e+00 5.87189604e-08 8.58119673e-13]\n",
      " [9.99992371e-01 5.60436547e-06 2.00490285e-06]\n",
      " [2.13781284e-10 1.14824232e-07 9.99999881e-01]\n",
      " [3.86609500e-08 9.99999881e-01 6.32525712e-08]]\n"
     ]
    }
   ],
   "source": [
    "res = model.predict_generator(testGenerator, steps=5)\n",
    "print(res)"
   ]
  },
  {
   "cell_type": "markdown",
   "metadata": {},
   "source": [
    "### ImageDataGenerator 파라미터\n",
    "- rotation_range : 회전 (0-90도 사이 랜덤으로 회전)\n",
    "- width_shift_range : 좌우 이동. (0-1사이의 비율로 이동) 0.1이라면 랜덤하게 오른쪽이나 왼쪽으로 10% 이동\n",
    "- height_shift_range : 상하 이동\n",
    "- shear_range : 변형, 라디안, 0.5(반시계 방향 밀어서 변형)\n",
    "- zoom_range : 확대/축소 0.3->0.7-1.3사이의 크기로 랜덤하게 확대,축소\n",
    "- horizontal_flip : 수평축 기준으로 뒤집기\n",
    "- vertical_flip : 수직축 기준으로 뒤집기"
   ]
  },
  {
   "cell_type": "code",
   "execution_count": 127,
   "metadata": {},
   "outputs": [],
   "source": [
    "from keras.preprocessing.image import array_to_img, img_to_array, load_img"
   ]
  },
  {
   "cell_type": "code",
   "execution_count": 128,
   "metadata": {},
   "outputs": [],
   "source": [
    "augGen = ImageDataGenerator(rescale=1./255,\n",
    "                            rotation_range=15,\n",
    "                            width_shift_range=0.1,\n",
    "                            height_shift_range=0.1,\n",
    "                            shear_range=0.5,\n",
    "                            zoom_range=[0.8,2.0],\n",
    "                            horizontal_flip=True,\n",
    "                            vertical_flip=True,\n",
    "                            fill_mode='nearest')"
   ]
  },
  {
   "cell_type": "code",
   "execution_count": 131,
   "metadata": {},
   "outputs": [
    {
     "data": {
      "image/png": "[encoded data removed]",
      "text/plain": [
       "<PIL.Image.Image image mode=RGB size=24x24 at 0x1B7C97A6A48>"
      ]
     },
     "execution_count": 131,
     "metadata": {},
     "output_type": "execute_result"
    }
   ],
   "source": [
    "img = load_img('./data/img_data/train/triangle/triangle001.png')\n",
    "img"
   ]
  },
  {
   "cell_type": "code",
   "execution_count": 134,
   "metadata": {},
   "outputs": [
    {
     "name": "stdout",
     "output_type": "stream",
     "text": [
      "(24, 24, 3)\n",
      "(1, 24, 24, 3)\n"
     ]
    }
   ],
   "source": [
    "# 이미지를 array로 변경\n",
    "x = img_to_array(img)\n",
    "print(x.shape,\"=> \",end='')\n",
    "x = x.reshape((1,)+x.shape)\n",
    "print(x.shape)"
   ]
  },
  {
   "cell_type": "code",
   "execution_count": 137,
   "metadata": {},
   "outputs": [],
   "source": [
    "i = 0\n",
    "for batch in augGen.flow(x,\n",
    "                         batch_size=1,\n",
    "                         save_to_dir='./data/img_data/img_store', # 저장 디렉토리\n",
    "                         save_prefix='tri', # 저장 파일 이름 접두어\n",
    "                         save_format='png'): # 저장 파일 확장자 지정\n",
    "    i+=1\n",
    "    if i >50:\n",
    "        break"
   ]
  }
 ],
 "metadata": {
  "kernelspec": {
   "display_name": "Python 3",
   "language": "python",
   "name": "python3"
  },
  "language_info": {
   "codemirror_mode": {
    "name": "ipython",
    "version": 3
   },
   "file_extension": ".py",
   "mimetype": "text/x-python",
   "name": "python",
   "nbconvert_exporter": "python",
   "pygments_lexer": "ipython3",
   "version": "3.7.4"
  }
 },
 "nbformat": 4,
 "nbformat_minor": 2
}
