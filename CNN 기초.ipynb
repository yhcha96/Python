{
 "cells": [
  {
   "cell_type": "markdown",
   "metadata": {},
   "source": [
    "MLP(DNN) -> 컴퓨터비전(이미지 처리)\n",
    "\n",
    "CNN(convolutional Neural Network)이 나오게 된 이유\n",
    "convolutional : 합성곱\n",
    "\n",
    "강아지 사진 분류기를 MLP로 만들었을 떄, 강아지 사진의 각도나 거리가 달라졌을때, 구분을 하지 못함.\n",
    "\n",
    "CNN을 이용하면 이미지에서 특징들을 추출해서 특징값을 input으로 함\n",
    "\n",
    "추출할 수 있는 특징 : 질감, 각도, 길이, 두께\n",
    "\n",
    "convolution layer \n",
    "- filter size를 결정해 정해진 stride 길이에 따라 이미지를 조각내어 인식\n",
    "입력데이터로부터 특징을 추출하는 역할을 수행하는 계층\n",
    "\n",
    "pooling layer(선택)\n",
    "- 특징의 대표값 추출 => 압축\n",
    "- 보편적으로 maxpooling 사용함\n",
    "\n",
    "\n",
    "flatten\n",
    "- 이미지로부터 다양한 특이점을 뽑아내고 이것을 1차원의 데이터로 변형\n",
    "\n",
    "필터 : 특징을 추출하는 기능\n",
    "활성화 함수 : 필터가 추출한 값을 비선형 값으로 변경\n",
    "\n",
    "\n",
    "스트라이드(strid)\n"
   ]
  },
  {
   "cell_type": "code",
   "execution_count": 1,
   "metadata": {},
   "outputs": [
    {
     "name": "stderr",
     "output_type": "stream",
     "text": [
      "Using TensorFlow backend.\n"
     ]
    }
   ],
   "source": [
    "import pandas as pd\n",
    "import numpy as np\n",
    "import tensorflow as tf\n",
    "from keras.models import Sequential\n",
    "from keras.layers import Dense\n",
    "import matplotlib.pyplot as plt"
   ]
  },
  {
   "cell_type": "code",
   "execution_count": 2,
   "metadata": {},
   "outputs": [],
   "source": [
    "image = np.array([[[[1],[2],[3]],\n",
    "                  [[4],[5],[6]],\n",
    "                  [[7],[8],[9]]]],dtype=np.float32)"
   ]
  },
  {
   "cell_type": "code",
   "execution_count": 3,
   "metadata": {},
   "outputs": [
    {
     "data": {
      "text/plain": [
       "(1, 3, 3, 1)"
      ]
     },
     "execution_count": 3,
     "metadata": {},
     "output_type": "execute_result"
    }
   ],
   "source": [
    "image.shape"
   ]
  },
  {
   "cell_type": "code",
   "execution_count": 4,
   "metadata": {},
   "outputs": [
    {
     "data": {
      "text/plain": [
       "<matplotlib.image.AxesImage at 0x20efc751748>"
      ]
     },
     "execution_count": 4,
     "metadata": {},
     "output_type": "execute_result"
    },
    {
     "data": {
      "image/png": "[encoded data removed]",
      "text/plain": [
       "<Figure size 432x288 with 1 Axes>"
      ]
     },
     "metadata": {
      "needs_background": "light"
     },
     "output_type": "display_data"
    }
   ],
   "source": [
    "plt.imshow(image.reshape(3,-1), cmap='Greys')"
   ]
  },
  {
   "cell_type": "code",
   "execution_count": 5,
   "metadata": {},
   "outputs": [
    {
     "data": {
      "text/plain": [
       "TensorShape([Dimension(2), Dimension(2), Dimension(1), Dimension(1)])"
      ]
     },
     "execution_count": 5,
     "metadata": {},
     "output_type": "execute_result"
    }
   ],
   "source": [
    "weight = tf.constant([[[[1.]],[[1.]]],\n",
    "                      [[[1.]],[[1.]]]])\n",
    "weight.shape"
   ]
  },
  {
   "cell_type": "code",
   "execution_count": 6,
   "metadata": {},
   "outputs": [],
   "source": [
    "# 합성곱\n",
    "sess = tf.InteractiveSession() # eval\n",
    "conv2d = tf.nn.conv2d(image, weight, strides=[1,1,1,1], padding='VALID')\n",
    "conv2dImage = conv2d.eval() # 합성곱 연산 실행됨"
   ]
  },
  {
   "cell_type": "code",
   "execution_count": 7,
   "metadata": {},
   "outputs": [
    {
     "data": {
      "text/plain": [
       "(1, 2, 2, 1)"
      ]
     },
     "execution_count": 7,
     "metadata": {},
     "output_type": "execute_result"
    }
   ],
   "source": [
    "conv2dImage.shape"
   ]
  },
  {
   "cell_type": "code",
   "execution_count": 8,
   "metadata": {},
   "outputs": [
    {
     "name": "stdout",
     "output_type": "stream",
     "text": [
      "[[12. 16.]\n",
      " [24. 28.]]\n"
     ]
    },
    {
     "data": {
      "image/png": "[encoded data removed]",
      "text/plain": [
       "<Figure size 432x288 with 1 Axes>"
      ]
     },
     "metadata": {
      "needs_background": "light"
     },
     "output_type": "display_data"
    }
   ],
   "source": [
    "for i,img in enumerate(conv2dImage):\n",
    "    print (img.reshape(2,-1))\n",
    "    plt.subplot(1,2,i+1)\n",
    "    plt.imshow(img.reshape(2,-1), cmap='gray')"
   ]
  },
  {
   "cell_type": "code",
   "execution_count": 9,
   "metadata": {},
   "outputs": [
    {
     "name": "stderr",
     "output_type": "stream",
     "text": [
      "C:\\Users\\student\\Anaconda3\\lib\\site-packages\\tensorflow_core\\python\\client\\session.py:1750: UserWarning: An interactive session is already active. This can cause out-of-memory errors in some cases. You must explicitly call `InteractiveSession.close()` to release resources held by the other session(s).\n",
      "  warnings.warn('An interactive session is already active. This can '\n"
     ]
    },
    {
     "data": {
      "text/plain": [
       "(1, 3, 3, 1)"
      ]
     },
     "execution_count": 9,
     "metadata": {},
     "output_type": "execute_result"
    }
   ],
   "source": [
    "# 합성곱\n",
    "sess = tf.InteractiveSession() # eval\n",
    "conv2d = tf.nn.conv2d(image, weight, strides=[1,1,1,1], padding='SAME')\n",
    "conv2dImage = conv2d.eval() # 합성곱 연산 실행됨\n",
    "conv2dImage.shape"
   ]
  },
  {
   "cell_type": "code",
   "execution_count": 10,
   "metadata": {},
   "outputs": [
    {
     "name": "stdout",
     "output_type": "stream",
     "text": [
      "[[12. 16.  9.]\n",
      " [24. 28. 15.]\n",
      " [15. 17.  9.]]\n"
     ]
    },
    {
     "data": {
      "image/png": "[encoded data removed]",
      "text/plain": [
       "<Figure size 432x288 with 1 Axes>"
      ]
     },
     "metadata": {
      "needs_background": "light"
     },
     "output_type": "display_data"
    }
   ],
   "source": [
    "for i,img in enumerate(conv2dImage):\n",
    "    print (img.reshape(3,-1))\n",
    "    plt.subplot(1,2,i+1)\n",
    "    plt.imshow(img.reshape(3,-1), cmap='gray')"
   ]
  },
  {
   "cell_type": "markdown",
   "metadata": {},
   "source": [
    "## mnist"
   ]
  },
  {
   "cell_type": "code",
   "execution_count": 11,
   "metadata": {},
   "outputs": [],
   "source": [
    "import random\n",
    "from tensorflow.examples.tutorials.mnist import input_data"
   ]
  },
  {
   "cell_type": "code",
   "execution_count": 12,
   "metadata": {},
   "outputs": [
    {
     "name": "stdout",
     "output_type": "stream",
     "text": [
      "WARNING:tensorflow:From <ipython-input-12-758d29429358>:1: read_data_sets (from tensorflow.contrib.learn.python.learn.datasets.mnist) is deprecated and will be removed in a future version.\n",
      "Instructions for updating:\n",
      "Please use alternatives such as official/mnist/dataset.py from tensorflow/models.\n",
      "WARNING:tensorflow:From C:\\Users\\student\\Anaconda3\\lib\\site-packages\\tensorflow_core\\contrib\\learn\\python\\learn\\datasets\\mnist.py:260: maybe_download (from tensorflow.contrib.learn.python.learn.datasets.base) is deprecated and will be removed in a future version.\n",
      "Instructions for updating:\n",
      "Please write your own downloading logic.\n",
      "WARNING:tensorflow:From C:\\Users\\student\\Anaconda3\\lib\\site-packages\\tensorflow_core\\contrib\\learn\\python\\learn\\datasets\\mnist.py:262: extract_images (from tensorflow.contrib.learn.python.learn.datasets.mnist) is deprecated and will be removed in a future version.\n",
      "Instructions for updating:\n",
      "Please use tf.data to implement this functionality.\n",
      "Extracting MNIST_data/train-images-idx3-ubyte.gz\n",
      "WARNING:tensorflow:From C:\\Users\\student\\Anaconda3\\lib\\site-packages\\tensorflow_core\\contrib\\learn\\python\\learn\\datasets\\mnist.py:267: extract_labels (from tensorflow.contrib.learn.python.learn.datasets.mnist) is deprecated and will be removed in a future version.\n",
      "Instructions for updating:\n",
      "Please use tf.data to implement this functionality.\n",
      "Extracting MNIST_data/train-labels-idx1-ubyte.gz\n",
      "WARNING:tensorflow:From C:\\Users\\student\\Anaconda3\\lib\\site-packages\\tensorflow_core\\contrib\\learn\\python\\learn\\datasets\\mnist.py:110: dense_to_one_hot (from tensorflow.contrib.learn.python.learn.datasets.mnist) is deprecated and will be removed in a future version.\n",
      "Instructions for updating:\n",
      "Please use tf.one_hot on tensors.\n",
      "Extracting MNIST_data/t10k-images-idx3-ubyte.gz\n",
      "Extracting MNIST_data/t10k-labels-idx1-ubyte.gz\n",
      "WARNING:tensorflow:From C:\\Users\\student\\Anaconda3\\lib\\site-packages\\tensorflow_core\\contrib\\learn\\python\\learn\\datasets\\mnist.py:290: DataSet.__init__ (from tensorflow.contrib.learn.python.learn.datasets.mnist) is deprecated and will be removed in a future version.\n",
      "Instructions for updating:\n",
      "Please use alternatives such as official/mnist/dataset.py from tensorflow/models.\n"
     ]
    }
   ],
   "source": [
    "mnist = input_data.read_data_sets(\"MNIST_data/\",one_hot=True)"
   ]
  },
  {
   "cell_type": "code",
   "execution_count": 13,
   "metadata": {},
   "outputs": [],
   "source": [
    "# 하이퍼 파라미터\n",
    "lr = 0.001\n",
    "epochs = 15\n",
    "batch_size = 100"
   ]
  },
  {
   "cell_type": "code",
   "execution_count": 14,
   "metadata": {},
   "outputs": [
    {
     "name": "stdout",
     "output_type": "stream",
     "text": [
      "WARNING:tensorflow:\n",
      "The TensorFlow contrib module will not be included in TensorFlow 2.0.\n",
      "For more information, please see:\n",
      "  * https://github.com/tensorflow/community/blob/master/rfcs/20180907-contrib-sunset.md\n",
      "  * https://github.com/tensorflow/addons\n",
      "  * https://github.com/tensorflow/io (for I/O related ops)\n",
      "If you depend on functionality not listed there, please file an issue.\n",
      "\n",
      "Epoch: 0 Cost: 0.05319\n",
      "Epoch: 1 Cost: 0.05847\n",
      "Epoch: 2 Cost: 0.02295\n",
      "Epoch: 3 Cost: 0.03063\n",
      "Epoch: 4 Cost: 0.13124\n",
      "Epoch: 5 Cost: 0.03058\n",
      "Epoch: 6 Cost: 0.05531\n",
      "Epoch: 7 Cost: 0.01424\n",
      "Epoch: 8 Cost: 0.01037\n",
      "Epoch: 9 Cost: 0.02074\n",
      "Epoch: 10 Cost: 0.03563\n",
      "Epoch: 11 Cost: 0.01573\n",
      "Epoch: 12 Cost: 0.00284\n",
      "Epoch: 13 Cost: 0.02197\n",
      "Epoch: 14 Cost: 0.00114\n",
      "Accuracy: 0.9868999719619751\n"
     ]
    }
   ],
   "source": [
    "x = tf.placeholder(tf.float32, shape=[None, 28*28])\n",
    "xImg = tf.reshape(x,[-1, 28, 28, 1]) # 2차원 -> 4차원\n",
    "\n",
    "y = tf.placeholder(tf.float32, shape=[None, 10])\n",
    "\n",
    "# hidden\n",
    "w1 = tf.Variable(tf.random_normal([3, 3, 1, 32], stddev = 0.01)) # (필터의 높이, 필터의 넓이, 채널 수, 필터의 개수) stddev=0.01주면 성능이 좋아짐\n",
    "L1 = tf.nn.conv2d(xImg,w1, strides=[1, 1, 1, 1], padding='SAME')\n",
    "L1 = tf.nn.relu(L1) # relu사용하는 이유 : 미분하면 0아니면 1이 나오기 때문에\n",
    "L1 = tf.nn.max_pool(L1, ksize=[1, 2, 2, 1], strides=[1,2,2,1], padding='SAME')\n",
    "# conv ->(?,28,28,32)\n",
    "# relu ->(?,28,28,32)\n",
    "# pool ->(?,14,14,32)\n",
    "\n",
    "w2 = tf.Variable(tf.random_normal([3, 3, 32, 64], stddev = 0.01))\n",
    "L2 = tf.nn.conv2d(L1, w2, strides=[1, 1, 1, 1], padding='SAME')\n",
    "L2 = tf.nn.relu(L2)\n",
    "L2 = tf.nn.max_pool(L2, ksize=[1, 2, 2, 1], strides=[1, 2, 2, 1], padding='SAME')\n",
    "# conv ->(?, 14, 14, 64)\n",
    "# relu ->(?, 14, 14, 64)\n",
    "# pool ->(?, 7, 7, 32)\n",
    "\n",
    "# flaten\n",
    "L2_flat = tf.reshape(L2, [-1, 7*7*64])# flatening -> (?, 3136\n",
    "\n",
    "w3 = tf.get_variable(\"w3\",\n",
    "                     shape=[7*7*64, 10],\n",
    "                     initializer = tf.contrib.layers.xavier_initializer())\n",
    "b = tf.Variable(tf.random_normal([10]))\n",
    "hf = tf.matmul(L2_flat, w3)+b\n",
    "\n",
    "cost = tf.reduce_mean(tf.nn.softmax_cross_entropy_with_logits_v2(logits=hf, labels=y)) # logits= 예측, labels=정답\n",
    "opt = tf.train.AdamOptimizer(lr).minimize(cost)\n",
    "\n",
    "sess = tf.Session()\n",
    "sess.run(tf.global_variables_initializer())\n",
    "for epoch in range(epochs):\n",
    "    avgCost=0\n",
    "    totalBatch = int(mnist.train.num_examples/batch_size)\n",
    "    for i in range(totalBatch):\n",
    "        batchX, batchY = mnist.train.next_batch(batch_size)\n",
    "        cv,_ = sess.run([cost,opt], feed_dict={x:batchX, y:batchY})\n",
    "        avgCost += cv/totalBatch\n",
    "    print(\"Epoch: {} Cost: {:.5f}\".format(epoch, cv))\n",
    "    \n",
    "pred = tf.equal(tf.argmax(hf,1), tf.argmax(y,1))\n",
    "acc = tf.reduce_mean(tf.cast(pred,tf.float32))\n",
    "print(\"Accuracy: {}\".format(sess.run(acc, feed_dict={x:mnist.test.images, y:mnist.test.labels})))"
   ]
  },
  {
   "cell_type": "markdown",
   "metadata": {},
   "source": [
    "### dropout 주기"
   ]
  },
  {
   "cell_type": "code",
   "execution_count": 18,
   "metadata": {},
   "outputs": [],
   "source": [
    "tf.reset_default_graph()"
   ]
  },
  {
   "cell_type": "code",
   "execution_count": 19,
   "metadata": {},
   "outputs": [
    {
     "name": "stdout",
     "output_type": "stream",
     "text": [
      "Epoch: 0 Cost: 0.17654\n",
      "Epoch: 1 Cost: 0.10907\n",
      "Epoch: 2 Cost: 0.08878\n",
      "Epoch: 3 Cost: 0.08440\n",
      "Epoch: 4 Cost: 0.05939\n",
      "Epoch: 5 Cost: 0.02649\n",
      "Epoch: 6 Cost: 0.08285\n",
      "Epoch: 7 Cost: 0.01205\n",
      "Epoch: 8 Cost: 0.02211\n",
      "Epoch: 9 Cost: 0.00793\n",
      "Epoch: 10 Cost: 0.02141\n",
      "Epoch: 11 Cost: 0.13593\n",
      "Epoch: 12 Cost: 0.01532\n",
      "Epoch: 13 Cost: 0.08017\n",
      "Epoch: 14 Cost: 0.20663\n",
      "Accuracy: 0.9902999997138977\n"
     ]
    }
   ],
   "source": [
    "# 하이퍼 파라미터\n",
    "lr = 0.001\n",
    "epochs = 15\n",
    "batch_size = 100\n",
    "keep_prob = tf.placeholder(tf.float32)\n",
    "\n",
    "# tf.reset_default_graph()\n",
    "\n",
    "x = tf.placeholder(tf.float32, shape=[None, 28*28])\n",
    "xImg = tf.reshape(x,[-1, 28, 28, 1]) # 2차원 -> 4차원\n",
    "\n",
    "y = tf.placeholder(tf.float32, shape=[None, 10])\n",
    "\n",
    "# hidden\n",
    "w1 = tf.Variable(tf.random_normal([3, 3, 1, 32], stddev = 0.01)) # (필터의 높이, 필터의 넓이, 채널 수, 필터의 개수) stddev=0.01주면 성능이 좋아짐\n",
    "L1 = tf.nn.conv2d(xImg,w1, strides=[1, 1, 1, 1], padding='SAME')\n",
    "L1 = tf.nn.relu(L1) # relu사용하는 이유 : 미분하면 0아니면 1이 나오기 때문에\n",
    "L1 = tf.nn.max_pool(L1, ksize=[1, 2, 2, 1], strides=[1,2,2,1], padding='SAME')\n",
    "L1 = tf.nn.dropout(L1, keep_prob=keep_prob)\n",
    "# conv ->(?,28,28,32)\n",
    "# relu ->(?,28,28,32)\n",
    "# pool ->(?,14,14,32)\n",
    "\n",
    "w2 = tf.Variable(tf.random_normal([3, 3, 32, 64], stddev = 0.01))\n",
    "L2 = tf.nn.conv2d(L1, w2, strides=[1, 1, 1, 1], padding='SAME')\n",
    "L2 = tf.nn.relu(L2)\n",
    "L2 = tf.nn.max_pool(L2, ksize=[1, 2, 2, 1], strides=[1, 2, 2, 1], padding='SAME')\n",
    "L2 = tf.nn.dropout(L2, keep_prob=keep_prob)\n",
    "# conv ->(?, 14, 14, 64)\n",
    "# relu ->(?, 14, 14, 64)\n",
    "# pool ->(?, 7, 7, 32)\n",
    "\n",
    "# flaten\n",
    "L2_flat = tf.reshape(L2, [-1, 7*7*64])# flatening -> (?, 3136\n",
    "\n",
    "w3 = tf.get_variable(\"w3\",\n",
    "                     shape=[7*7*64, 10],\n",
    "                     initializer = tf.contrib.layers.xavier_initializer())\n",
    "b = tf.Variable(tf.random_normal([10]))\n",
    "hf = tf.matmul(L2_flat, w3)+b\n",
    "\n",
    "cost = tf.reduce_mean(tf.nn.softmax_cross_entropy_with_logits_v2(logits=hf, labels=y)) # logits= 예측, labels=정답\n",
    "opt = tf.train.AdamOptimizer(lr).minimize(cost)\n",
    "\n",
    "sess = tf.Session()\n",
    "sess.run(tf.global_variables_initializer())\n",
    "for epoch in range(epochs):\n",
    "    avgCost=0\n",
    "    totalBatch = int(mnist.train.num_examples/batch_size)\n",
    "    for i in range(totalBatch):\n",
    "        batchX, batchY = mnist.train.next_batch(batch_size)\n",
    "        cv,_ = sess.run([cost,opt], feed_dict={x:batchX, y:batchY, keep_prob:0.7})\n",
    "        avgCost += cv/totalBatch\n",
    "    print(\"Epoch: {} Cost: {:.5f}\".format(epoch, cv))\n",
    "    \n",
    "pred = tf.equal(tf.argmax(hf,1), tf.argmax(y,1))\n",
    "acc = tf.reduce_mean(tf.cast(pred,tf.float32))\n",
    "print(\"Accuracy: {}\".format(sess.run(acc, feed_dict={x:mnist.test.images, y:mnist.test.labels, keep_prob:1})))"
   ]
  },
  {
   "cell_type": "code",
   "execution_count": null,
   "metadata": {},
   "outputs": [],
   "source": []
  }
 ],
 "metadata": {
  "kernelspec": {
   "display_name": "Python 3",
   "language": "python",
   "name": "python3"
  },
  "language_info": {
   "codemirror_mode": {
    "name": "ipython",
    "version": 3
   },
   "file_extension": ".py",
   "mimetype": "text/x-python",
   "name": "python",
   "nbconvert_exporter": "python",
   "pygments_lexer": "ipython3",
   "version": "3.7.4"
  }
 },
 "nbformat": 4,
 "nbformat_minor": 2
}
